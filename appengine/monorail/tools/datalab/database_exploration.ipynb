{
 "cells": [
  {
   "cell_type": "code",
   "execution_count": 1,
   "metadata": {
    "collapsed": false
   },
   "outputs": [
    {
     "name": "stdout",
     "output_type": "stream",
     "text": [
      "Populating the interactive namespace from numpy and matplotlib\n"
     ]
    }
   ],
   "source": [
    "%pylab inline"
   ]
  },
  {
   "cell_type": "code",
   "execution_count": 2,
   "metadata": {
    "collapsed": false
   },
   "outputs": [],
   "source": [
    "from __future__ import print_function\n",
    "from __future__ import division\n",
    "from IPython.display import display, HTML"
   ]
  },
  {
   "cell_type": "code",
   "execution_count": 3,
   "metadata": {
    "collapsed": false
   },
   "outputs": [],
   "source": [
    "import seaborn as sns\n",
    "import pandas as pd\n",
    "import MySQLdb as mdb\n",
    "import bs4\n",
    "import datetime\n",
    "import time\n",
    "from collections import defaultdict"
   ]
  },
  {
   "cell_type": "markdown",
   "metadata": {},
   "source": [
    "### Some Helper Functions"
   ]
  },
  {
   "cell_type": "code",
   "execution_count": 4,
   "metadata": {
    "collapsed": true
   },
   "outputs": [],
   "source": [
    "import webbrowser\n",
    "\n",
    "def issue_id_to_local_id(issue_id):\n",
    "    return chrome_issue[chrome_issue[\"issue_id\"] == issue_id][\"local_id\"].values[0]\n",
    "\n",
    "def open_issue_webpage(issue_id):\n",
    "    '''This Function opens the webpage of the issue corresponding to issue_id.S'''\n",
    "    chromium_path = \"https://bugs.chromium.org/p/chromium/issues/detail?id=\"\n",
    "    local_id = issue_id_to_local_id(issue_id)\n",
    "    webbrowser.open_new(chromium_path + str(local_id))"
   ]
  },
  {
   "cell_type": "code",
   "execution_count": 5,
   "metadata": {
    "collapsed": false
   },
   "outputs": [],
   "source": [
    "def table_to_dataframe(name, connection):\n",
    "    return pd.read_sql(\"SELECT * FROM {};\".format(name) , con=connection)"
   ]
  },
  {
   "cell_type": "code",
   "execution_count": 6,
   "metadata": {
    "collapsed": true
   },
   "outputs": [],
   "source": [
    "def histrogram_plot(count_data, title, x_label, y_label, kde=False, hist=True):\n",
    "    sns.distplot(count_data, kde=kde, hist=hist)\n",
    "    plt.title(title)\n",
    "    plt.xlabel(x_label)\n",
    "    plt.ylabel(y_label)"
   ]
  },
  {
   "cell_type": "code",
   "execution_count": 7,
   "metadata": {
    "collapsed": false
   },
   "outputs": [],
   "source": [
    "connection = mdb.connect(host=\"173.194.230.234\", user=\"noblek\", db=\"monorail\")"
   ]
  },
  {
   "cell_type": "code",
   "execution_count": 8,
   "metadata": {
    "collapsed": false
   },
   "outputs": [],
   "source": [
    "cursor = connection.cursor()"
   ]
  },
  {
   "cell_type": "markdown",
   "metadata": {},
   "source": [
    "### The Names of the tables in the Database"
   ]
  },
  {
   "cell_type": "code",
   "execution_count": 9,
   "metadata": {
    "collapsed": false,
    "scrolled": false
   },
   "outputs": [
    {
     "name": "stdout",
     "output_type": "stream",
     "text": [
      "Attachment\n",
      "AutocompleteExclusion\n",
      "Comment\n",
      "Component2Admin\n",
      "Component2Cc\n",
      "Component2Label\n",
      "ComponentDef\n",
      "DanglingIssueRelation\n",
      "DismissedCues\n",
      "ExtraPerm\n",
      "FieldDef\n",
      "FieldDef2Admin\n",
      "FilterRule\n",
      "Group2Project\n",
      "Invalidate\n",
      "Issue\n",
      "Issue2Cc\n",
      "Issue2Component\n",
      "Issue2FieldValue\n",
      "Issue2Label\n",
      "Issue2Notify\n",
      "IssueFormerLocations\n",
      "IssueRelation\n",
      "IssueStar\n",
      "IssueSummary\n",
      "IssueUpdate\n",
      "LabelDef\n",
      "LocalIDCounter\n",
      "MemberNotes\n",
      "Project\n",
      "Project2SavedQuery\n",
      "ProjectIssueConfig\n",
      "ProjectStar\n",
      "QuickEditHistory\n",
      "QuickEditMostRecent\n",
      "ReindexQueue\n",
      "SavedQuery\n",
      "SavedQueryExecutesInProject\n",
      "SpamReport\n",
      "SpamVerdict\n",
      "StatusDef\n",
      "Template\n",
      "Template2Admin\n",
      "Template2Component\n",
      "Template2FieldValue\n",
      "Template2Label\n",
      "User\n",
      "User2Project\n",
      "User2SavedQuery\n",
      "UserGroup\n",
      "UserGroupSettings\n",
      "UserStar\n",
      "_Comment_old\n",
      "dsns\n"
     ]
    }
   ],
   "source": [
    "cursor.execute(\"SHOW  TABLES\")\n",
    "for (table_name,) in cursor:\n",
    "    print(table_name)"
   ]
  },
  {
   "cell_type": "markdown",
   "metadata": {},
   "source": [
    "### Load the tables that will be used for analysis"
   ]
  },
  {
   "cell_type": "code",
   "execution_count": 10,
   "metadata": {
    "collapsed": false
   },
   "outputs": [],
   "source": [
    "issue = table_to_dataframe(\"Issue\", connection)\n",
    "comment = table_to_dataframe(\"Comment\", connection)\n",
    "issue_summarny = table_to_dataframe(\"IssueSummary\", connection)\n",
    "issue_label = table_to_dataframe(\"Issue2Label\", connection)\n",
    "issue_component = table_to_dataframe(\"Issue2Component\", connection)"
   ]
  },
  {
   "cell_type": "code",
   "execution_count": 11,
   "metadata": {
    "collapsed": false
   },
   "outputs": [],
   "source": [
    "issue.rename(columns={\"id\":\"issue_id\"}, inplace=True)"
   ]
  },
  {
   "cell_type": "markdown",
   "metadata": {},
   "source": [
    "### Select for only Chromium Projects"
   ]
  },
  {
   "cell_type": "code",
   "execution_count": 12,
   "metadata": {
    "collapsed": false
   },
   "outputs": [],
   "source": [
    "chrome_issue = issue[issue[\"project_id\"] == 16].copy()"
   ]
  },
  {
   "cell_type": "code",
   "execution_count": 13,
   "metadata": {
    "collapsed": false
   },
   "outputs": [],
   "source": [
    "chrome_comment = comment[comment[\"project_id\"] == 16]"
   ]
  },
  {
   "cell_type": "code",
   "execution_count": 14,
   "metadata": {
    "collapsed": false
   },
   "outputs": [
    {
     "name": "stdout",
     "output_type": "stream",
     "text": [
      "Number of Chromium Issues 611859\n",
      "Number of Chromium Comments 5712584\n"
     ]
    }
   ],
   "source": [
    "print(\"Number of Chromium Issues\", chrome_issue.shape[0])\n",
    "print(\"Number of Chromium Comments\", chrome_comment.shape[0])"
   ]
  },
  {
   "cell_type": "code",
   "execution_count": 15,
   "metadata": {
    "collapsed": true
   },
   "outputs": [],
   "source": [
    "unique_chrome_issues = set(chrome_issue[\"issue_id\"])"
   ]
  },
  {
   "cell_type": "markdown",
   "metadata": {},
   "source": [
    "### Associate comments with their Issues"
   ]
  },
  {
   "cell_type": "code",
   "execution_count": 16,
   "metadata": {
    "collapsed": false
   },
   "outputs": [
    {
     "name": "stdout",
     "output_type": "stream",
     "text": [
      "0\n",
      "1000000\n",
      "2000000\n",
      "3000000\n",
      "4000000\n",
      "5000000\n"
     ]
    }
   ],
   "source": [
    "comments_by_issue = defaultdict(list)\n",
    "i = 0\n",
    "for index, row in chrome_comment.iterrows():\n",
    "    comments_by_issue[row[\"issue_id\"]].append((index, row.created))\n",
    "    if i % 1000000 == 0:\n",
    "        print(i)\n",
    "    i += 1"
   ]
  },
  {
   "cell_type": "markdown",
   "metadata": {},
   "source": [
    "### Make sure the list of Comments for each issue are sorted by time"
   ]
  },
  {
   "cell_type": "code",
   "execution_count": 17,
   "metadata": {
    "collapsed": false
   },
   "outputs": [],
   "source": [
    "chrome_issue[\"comments\"] = chrome_issue[\"issue_id\"].apply(lambda i_id: [tup[0] for tup in sorted(comments_by_issue[i_id], key=lambda x: x[1])])"
   ]
  },
  {
   "cell_type": "markdown",
   "metadata": {},
   "source": [
    "### Explore the number of comments per issue"
   ]
  },
  {
   "cell_type": "code",
   "execution_count": 18,
   "metadata": {
    "collapsed": false
   },
   "outputs": [],
   "source": [
    "chrome_issue[\"num_comments\"] = chrome_issue[\"comments\"].apply(lambda comments: len(comments))"
   ]
  },
  {
   "cell_type": "code",
   "execution_count": 19,
   "metadata": {
    "collapsed": false
   },
   "outputs": [
    {
     "data": {
      "image/png": "[encoded data removed]",
      "text/plain": [
       "<matplotlib.figure.Figure at 0x7fd68c77ad90>"
      ]
     },
     "metadata": {},
     "output_type": "display_data"
    }
   ],
   "source": [
    "histrogram_plot(chrome_issue[\"num_comments\"], \"Number of Comments per Issue\",\"Number of Comments\", \"Count\")"
   ]
  },
  {
   "cell_type": "code",
   "execution_count": 20,
   "metadata": {
    "collapsed": false
   },
   "outputs": [
    {
     "data": {
      "image/png": "[encoded data removed]",
      "text/plain": [
       "<matplotlib.figure.Figure at 0x7fd64d25d810>"
      ]
     },
     "metadata": {},
     "output_type": "display_data"
    }
   ],
   "source": [
    "histrogram_plot(chrome_issue[chrome_issue[\"num_comments\"] < 100][\"num_comments\"], \"Number of Comments(Less Than 100)\", \"Number of Comments\", \"Count\")"
   ]
  },
  {
   "cell_type": "markdown",
   "metadata": {},
   "source": [
    "Statistics of the number of comments per issue"
   ]
  },
  {
   "cell_type": "code",
   "execution_count": 21,
   "metadata": {
    "collapsed": false
   },
   "outputs": [
    {
     "data": {
      "text/plain": [
       "count    611859.000000\n",
       "mean          9.336439\n",
       "std          27.077464\n",
       "min           1.000000\n",
       "25%           4.000000\n",
       "50%           6.000000\n",
       "75%          11.000000\n",
       "max        6354.000000\n",
       "Name: num_comments, dtype: float64"
      ]
     },
     "execution_count": 21,
     "metadata": {},
     "output_type": "execute_result"
    }
   ],
   "source": [
    "chrome_issue[\"num_comments\"].describe()"
   ]
  },
  {
   "cell_type": "code",
   "execution_count": 22,
   "metadata": {
    "collapsed": false
   },
   "outputs": [
    {
     "name": "stdout",
     "output_type": "stream",
     "text": [
      "The Number of Deleted Comments: 49186\n"
     ]
    }
   ],
   "source": [
    "print(\"The Number of Deleted Comments:\", np.where(~np.isnan(chrome_comment[\"deleted_by\"]))[0].shape[0])"
   ]
  },
  {
   "cell_type": "markdown",
   "metadata": {},
   "source": [
    "### Coarse Plots of Comments over time\n",
    "\n",
    "It appears that it is not unusal for issues to be commented on the order of years"
   ]
  },
  {
   "cell_type": "code",
   "execution_count": 23,
   "metadata": {
    "collapsed": false
   },
   "outputs": [],
   "source": [
    "def plot_comments_over_time(comments):\n",
    "    num_comments = len(comments)\n",
    "    plt.plot(map(datetime.datetime.fromtimestamp, comments[\"created\"]), xrange(1, num_comments+1))\n",
    "    plt.xlabel(\"Time\")\n",
    "    plt.ylabel(\"Number of Comments\")\n",
    "    plt.title(\"time vs number of comments\")"
   ]
  },
  {
   "cell_type": "code",
   "execution_count": 24,
   "metadata": {
    "collapsed": false
   },
   "outputs": [
    {
     "data": {
      "image/png": "[encoded data removed]",
      "text/plain": [
       "<matplotlib.figure.Figure at 0x7fd64def9c90>"
      ]
     },
     "metadata": {},
     "output_type": "display_data"
    }
   ],
   "source": [
    "for idx in xrange(0, len(chrome_issue), 10000):\n",
    "    if len(chrome_issue.iloc[idx][\"comments\"]) > 500:\n",
    "        continue\n",
    "    plot_comments_over_time(chrome_comment.loc[chrome_issue.iloc[idx][\"comments\"]])"
   ]
  },
  {
   "cell_type": "markdown",
   "metadata": {},
   "source": [
    "### Explore The timeframe from when an issue is opened to closed"
   ]
  },
  {
   "cell_type": "code",
   "execution_count": 25,
   "metadata": {
    "collapsed": false
   },
   "outputs": [],
   "source": [
    "time_to_closure = (chrome_issue[\"closed\"] - chrome_issue[\"opened\"])\n",
    "time_to_closure = time_to_closure[time_to_closure > 0]"
   ]
  },
  {
   "cell_type": "code",
   "execution_count": 26,
   "metadata": {
    "collapsed": false
   },
   "outputs": [
    {
     "data": {
      "image/png": "[encoded data removed]",
      "text/plain": [
       "<matplotlib.figure.Figure at 0x7fd64e12f550>"
      ]
     },
     "metadata": {},
     "output_type": "display_data"
    }
   ],
   "source": [
    "histrogram_plot(time_to_closure / (365*24*3600), \"Number Closed over years\", \"Years\", \"Number Closed\")"
   ]
  },
  {
   "cell_type": "code",
   "execution_count": 27,
   "metadata": {
    "collapsed": false
   },
   "outputs": [
    {
     "data": {
      "image/png": "[encoded data removed]",
      "text/plain": [
       "<matplotlib.figure.Figure at 0x7fd6cc4702d0>"
      ]
     },
     "metadata": {},
     "output_type": "display_data"
    }
   ],
   "source": [
    "histrogram_plot(time_to_closure[time_to_closure < (500*24*3600)] / (3600 * 24), \"Number Closed over Days (Less than 500)\", \"Days\", \"Number Closed\")"
   ]
  },
  {
   "cell_type": "markdown",
   "metadata": {},
   "source": [
    "Statistics on time to closure"
   ]
  },
  {
   "cell_type": "code",
   "execution_count": 28,
   "metadata": {
    "collapsed": false
   },
   "outputs": [
    {
     "name": "stdout",
     "output_type": "stream",
     "text": [
      "Average time to closure 177.271462655 Days\n",
      "Median time to closure 21.178587963 Days\n",
      "Standard Deviation of time to closure 335.366124974 Days\n"
     ]
    }
   ],
   "source": [
    "print(\"Average time to closure\", time_to_closure.mean() / (3600 * 24), \"Days\")\n",
    "print(\"Median time to closure\", time_to_closure.median() / (3600 * 24), \"Days\")\n",
    "print(\"Standard Deviation of time to closure\", time_to_closure.std() / (3600 * 24), \"Days\")"
   ]
  },
  {
   "cell_type": "markdown",
   "metadata": {},
   "source": [
    "### Explore the length of a typical comment (Really Rough still need to remove markup, stop words, etc...) I'm also not differentiting between first comment and everything else.\n",
    "..."
   ]
  },
  {
   "cell_type": "code",
   "execution_count": 29,
   "metadata": {
    "collapsed": true
   },
   "outputs": [],
   "source": [
    "length_of_comments = chrome_comment[\"content\"].apply(lambda content: len(content.split()))"
   ]
  },
  {
   "cell_type": "code",
   "execution_count": 30,
   "metadata": {
    "collapsed": false
   },
   "outputs": [
    {
     "data": {
      "image/png": "[encoded data removed]",
      "text/plain": [
       "<matplotlib.figure.Figure at 0x7fd64d328950>"
      ]
     },
     "metadata": {},
     "output_type": "display_data"
    }
   ],
   "source": [
    "histrogram_plot(length_of_comments[(length_of_comments > 0) & (length_of_comments < 200)], \"Length of Issue (<200)\", \"Number of Words\", \"Count\")"
   ]
  },
  {
   "cell_type": "markdown",
   "metadata": {},
   "source": [
    "Statistics on the lengh of Comments"
   ]
  },
  {
   "cell_type": "code",
   "execution_count": 31,
   "metadata": {
    "collapsed": false
   },
   "outputs": [
    {
     "data": {
      "text/plain": [
       "count    5.712584e+06\n",
       "mean     3.971911e+01\n",
       "std      7.033108e+01\n",
       "min      0.000000e+00\n",
       "25%      0.000000e+00\n",
       "50%      1.800000e+01\n",
       "75%      5.600000e+01\n",
       "max      7.504000e+03\n",
       "Name: content, dtype: float64"
      ]
     },
     "execution_count": 31,
     "metadata": {},
     "output_type": "execute_result"
    }
   ],
   "source": [
    "length_of_comments.describe()"
   ]
  },
  {
   "cell_type": "markdown",
   "metadata": {},
   "source": [
    "## Explore Labels"
   ]
  },
  {
   "cell_type": "code",
   "execution_count": 32,
   "metadata": {
    "collapsed": true
   },
   "outputs": [],
   "source": [
    "chrome_issue_id_set = set(chrome_issue[\"issue_id\"])"
   ]
  },
  {
   "cell_type": "code",
   "execution_count": 33,
   "metadata": {
    "collapsed": false
   },
   "outputs": [
    {
     "name": "stdout",
     "output_type": "stream",
     "text": [
      "0\n",
      "1000000\n",
      "2000000\n",
      "3000000\n"
     ]
    }
   ],
   "source": [
    "labels_by_issue = defaultdict(list)\n",
    "num_times_label_used = defaultdict(int)\n",
    "i = 0\n",
    "for index, row in issue_label.iterrows():\n",
    "    if row[\"issue_id\"] in chrome_issue_id_set:\n",
    "        labels_by_issue[row[\"issue_id\"]].append(row[\"label_id\"])\n",
    "        num_times_label_used[row[\"label_id\"]] += 1\n",
    "    if i % 1000000 == 0:\n",
    "        print(i)\n",
    "    i += 1"
   ]
  },
  {
   "cell_type": "code",
   "execution_count": 34,
   "metadata": {
    "collapsed": false
   },
   "outputs": [],
   "source": [
    "chrome_issue[\"labels\"] = chrome_issue[\"issue_id\"].apply(lambda i_id: labels_by_issue[i_id])"
   ]
  },
  {
   "cell_type": "code",
   "execution_count": 35,
   "metadata": {
    "collapsed": false
   },
   "outputs": [],
   "source": [
    "chrome_issue[\"num_labels\"] = chrome_issue[\"labels\"].apply(lambda labels_list: len(labels_list))"
   ]
  },
  {
   "cell_type": "code",
   "execution_count": 36,
   "metadata": {
    "collapsed": false
   },
   "outputs": [
    {
     "data": {
      "image/png": "[encoded data removed]",
      "text/plain": [
       "<matplotlib.figure.Figure at 0x7fd69d327e10>"
      ]
     },
     "metadata": {},
     "output_type": "display_data"
    }
   ],
   "source": [
    "histrogram_plot(chrome_issue[\"num_labels\"], \"Number of Labels per Issue\", \"Num Labels\", \"Count\")"
   ]
  },
  {
   "cell_type": "markdown",
   "metadata": {},
   "source": [
    "Statistics on Labels per Issue"
   ]
  },
  {
   "cell_type": "code",
   "execution_count": 37,
   "metadata": {
    "collapsed": false
   },
   "outputs": [
    {
     "data": {
      "text/plain": [
       "count    611859.000000\n",
       "mean          5.243520\n",
       "std           2.379956\n",
       "min           0.000000\n",
       "25%           4.000000\n",
       "50%           5.000000\n",
       "75%           6.000000\n",
       "max          70.000000\n",
       "Name: num_labels, dtype: float64"
      ]
     },
     "execution_count": 37,
     "metadata": {},
     "output_type": "execute_result"
    }
   ],
   "source": [
    "chrome_issue[\"num_labels\"].describe()"
   ]
  },
  {
   "cell_type": "code",
   "execution_count": 38,
   "metadata": {
    "collapsed": false
   },
   "outputs": [],
   "source": [
    "number_times_label_used = pd.DataFrame(num_times_label_used.items(), columns=[\"label_id\", \"number_time_used\"])"
   ]
  },
  {
   "cell_type": "code",
   "execution_count": 39,
   "metadata": {
    "collapsed": false
   },
   "outputs": [
    {
     "name": "stdout",
     "output_type": "stream",
     "text": [
      "Number of Unique Labels 20493\n"
     ]
    }
   ],
   "source": [
    "print(\"Number of Unique Labels\", number_times_label_used.shape[0])"
   ]
  },
  {
   "cell_type": "code",
   "execution_count": 40,
   "metadata": {
    "collapsed": false
   },
   "outputs": [
    {
     "data": {
      "image/png": "[encoded data removed]",
      "text/plain": [
       "<matplotlib.figure.Figure at 0x7fd64a4fc450>"
      ]
     },
     "metadata": {},
     "output_type": "display_data"
    }
   ],
   "source": [
    "histrogram_plot(number_times_label_used[\"number_time_used\"], \"Number of Times Label Used\", \"Number Used\", \"Count\")"
   ]
  },
  {
   "cell_type": "code",
   "execution_count": 41,
   "metadata": {
    "collapsed": false
   },
   "outputs": [
    {
     "data": {
      "image/png": "[encoded data removed]",
      "text/plain": [
       "<matplotlib.figure.Figure at 0x7fd69d321450>"
      ]
     },
     "metadata": {},
     "output_type": "display_data"
    }
   ],
   "source": [
    "histrogram_plot(number_times_label_used[number_times_label_used[\"number_time_used\"] > 1000][\"number_time_used\"], \"Number of Times Label Used(Less Than 100)\", \"Number Used\", \"Count\")"
   ]
  },
  {
   "cell_type": "markdown",
   "metadata": {},
   "source": [
    "Statistics on how often labels have been used"
   ]
  },
  {
   "cell_type": "code",
   "execution_count": 42,
   "metadata": {
    "collapsed": false
   },
   "outputs": [
    {
     "data": {
      "text/plain": [
       "count     20493.000000\n",
       "mean        156.555653\n",
       "std        4947.912097\n",
       "min           1.000000\n",
       "25%           1.000000\n",
       "50%           1.000000\n",
       "75%           5.000000\n",
       "max      469002.000000\n",
       "Name: number_time_used, dtype: float64"
      ]
     },
     "execution_count": 42,
     "metadata": {},
     "output_type": "execute_result"
    }
   ],
   "source": [
    "number_times_label_used[\"number_time_used\"].describe()"
   ]
  },
  {
   "cell_type": "code",
   "execution_count": 43,
   "metadata": {
    "collapsed": false
   },
   "outputs": [
    {
     "data": {
      "text/html": [
       "<div>\n",
       "<table border=\"1\" class=\"dataframe\">\n",
       "  <thead>\n",
       "    <tr style=\"text-align: right;\">\n",
       "      <th></th>\n",
       "      <th>label_id</th>\n",
       "      <th>number_time_used</th>\n",
       "    </tr>\n",
       "  </thead>\n",
       "  <tbody>\n",
       "    <tr>\n",
       "      <th>17030</th>\n",
       "      <td>18246154</td>\n",
       "      <td>469002</td>\n",
       "    </tr>\n",
       "  </tbody>\n",
       "</table>\n",
       "</div>"
      ],
      "text/plain": [
       "       label_id  number_time_used\n",
       "17030  18246154            469002"
      ]
     },
     "execution_count": 43,
     "metadata": {},
     "output_type": "execute_result"
    }
   ],
   "source": [
    "number_times_label_used[number_times_label_used[\"number_time_used\"] > 450000]"
   ]
  },
  {
   "cell_type": "code",
   "execution_count": 44,
   "metadata": {
    "collapsed": true
   },
   "outputs": [],
   "source": [
    "label_def = table_to_dataframe(\"LabelDef\", connection)"
   ]
  },
  {
   "cell_type": "code",
   "execution_count": 45,
   "metadata": {
    "collapsed": false
   },
   "outputs": [
    {
     "data": {
      "text/html": [
       "<div>\n",
       "<table border=\"1\" class=\"dataframe\">\n",
       "  <thead>\n",
       "    <tr style=\"text-align: right;\">\n",
       "      <th></th>\n",
       "      <th>id</th>\n",
       "      <th>project_id</th>\n",
       "      <th>label</th>\n",
       "      <th>rank</th>\n",
       "      <th>docstring</th>\n",
       "      <th>deprecated</th>\n",
       "    </tr>\n",
       "  </thead>\n",
       "  <tbody>\n",
       "    <tr>\n",
       "      <th>5566</th>\n",
       "      <td>18246154</td>\n",
       "      <td>16</td>\n",
       "      <td>Type-Bug</td>\n",
       "      <td>215.0</td>\n",
       "      <td>Software not working correctly</td>\n",
       "      <td>0.0</td>\n",
       "    </tr>\n",
       "  </tbody>\n",
       "</table>\n",
       "</div>"
      ],
      "text/plain": [
       "            id  project_id     label   rank                       docstring  \\\n",
       "5566  18246154          16  Type-Bug  215.0  Software not working correctly   \n",
       "\n",
       "      deprecated  \n",
       "5566         0.0  "
      ]
     },
     "execution_count": 45,
     "metadata": {},
     "output_type": "execute_result"
    }
   ],
   "source": [
    "label_def[label_def[\"id\"] == 18246154]"
   ]
  },
  {
   "cell_type": "markdown",
   "metadata": {},
   "source": [
    "## Explore Components"
   ]
  },
  {
   "cell_type": "code",
   "execution_count": 46,
   "metadata": {
    "collapsed": false
   },
   "outputs": [
    {
     "name": "stdout",
     "output_type": "stream",
     "text": [
      "0\n",
      "100000\n",
      "200000\n",
      "300000\n",
      "400000\n",
      "500000\n"
     ]
    }
   ],
   "source": [
    "components_by_issue = defaultdict(list)\n",
    "num_times_comp_used = defaultdict(int)\n",
    "i = 0\n",
    "for index, row in issue_component.iterrows():\n",
    "    if row[\"issue_id\"] in chrome_issue_id_set:\n",
    "        components_by_issue[row[\"issue_id\"]].append(row[\"component_id\"])\n",
    "        num_times_comp_used[row[\"component_id\"]] += 1\n",
    "    if i % 100000 == 0:\n",
    "        print(i)\n",
    "    i += 1"
   ]
  },
  {
   "cell_type": "code",
   "execution_count": 47,
   "metadata": {
    "collapsed": false
   },
   "outputs": [],
   "source": [
    "chrome_issue[\"components\"] = chrome_issue[\"issue_id\"].apply(lambda i_id: components_by_issue[i_id])\n",
    "chrome_issue[\"num_components\"] = chrome_issue[\"components\"].apply(lambda comp_list: len(comp_list))"
   ]
  },
  {
   "cell_type": "code",
   "execution_count": 48,
   "metadata": {
    "collapsed": false
   },
   "outputs": [
    {
     "data": {
      "image/png": "[encoded data removed]",
      "text/plain": [
       "<matplotlib.figure.Figure at 0x7fd63079db90>"
      ]
     },
     "metadata": {},
     "output_type": "display_data"
    }
   ],
   "source": [
    "histrogram_plot(chrome_issue[\"num_components\"], \"Number of Components per Issue\", \"Number of Components\", \"Count\")"
   ]
  },
  {
   "cell_type": "markdown",
   "metadata": {},
   "source": [
    "Statistics on Components per issue"
   ]
  },
  {
   "cell_type": "code",
   "execution_count": 49,
   "metadata": {
    "collapsed": false
   },
   "outputs": [
    {
     "data": {
      "text/plain": [
       "count    611859.000000\n",
       "mean          0.870696\n",
       "std           0.843908\n",
       "min           0.000000\n",
       "25%           0.000000\n",
       "50%           1.000000\n",
       "75%           1.000000\n",
       "max           8.000000\n",
       "Name: num_components, dtype: float64"
      ]
     },
     "execution_count": 49,
     "metadata": {},
     "output_type": "execute_result"
    }
   ],
   "source": [
    "chrome_issue[\"num_components\"].describe()"
   ]
  },
  {
   "cell_type": "code",
   "execution_count": 50,
   "metadata": {
    "collapsed": true
   },
   "outputs": [],
   "source": [
    "number_comp_used = pd.DataFrame(num_times_comp_used.items(), columns=[\"component_id\", \"number_time_used\"])"
   ]
  },
  {
   "cell_type": "code",
   "execution_count": 51,
   "metadata": {
    "collapsed": false
   },
   "outputs": [
    {
     "name": "stdout",
     "output_type": "stream",
     "text": [
      "Number of Unique Components 657\n"
     ]
    }
   ],
   "source": [
    "print(\"Number of Unique Components\", number_comp_used.shape[0])"
   ]
  },
  {
   "cell_type": "code",
   "execution_count": 52,
   "metadata": {
    "collapsed": false
   },
   "outputs": [
    {
     "data": {
      "image/png": "[encoded data removed]",
      "text/plain": [
       "<matplotlib.figure.Figure at 0x7fd64be42710>"
      ]
     },
     "metadata": {},
     "output_type": "display_data"
    }
   ],
   "source": [
    "histrogram_plot(number_comp_used[\"number_time_used\"], \"Number of Times Comp Used\", \"Number Used\", \"Count\")"
   ]
  },
  {
   "cell_type": "markdown",
   "metadata": {},
   "source": [
    "### Statistics on Component Frequency"
   ]
  },
  {
   "cell_type": "code",
   "execution_count": 53,
   "metadata": {
    "collapsed": false
   },
   "outputs": [
    {
     "data": {
      "text/plain": [
       "count      657.000000\n",
       "mean       810.872146\n",
       "std       3318.952857\n",
       "min          1.000000\n",
       "25%         15.000000\n",
       "50%        121.000000\n",
       "75%        557.000000\n",
       "max      59116.000000\n",
       "Name: number_time_used, dtype: float64"
      ]
     },
     "execution_count": 53,
     "metadata": {},
     "output_type": "execute_result"
    }
   ],
   "source": [
    "number_comp_used[\"number_time_used\"].describe()"
   ]
  },
  {
   "cell_type": "markdown",
   "metadata": {},
   "source": [
    "### Use Issue Updates to determine time to correct component assignment"
   ]
  },
  {
   "cell_type": "code",
   "execution_count": 54,
   "metadata": {
    "collapsed": true
   },
   "outputs": [],
   "source": [
    "component_def = table_to_dataframe(\"ComponentDef\", connection)"
   ]
  },
  {
   "cell_type": "code",
   "execution_count": 55,
   "metadata": {
    "collapsed": false
   },
   "outputs": [],
   "source": [
    "chrome_components = component_def[component_def[\"project_id\"] == 16]"
   ]
  },
  {
   "cell_type": "code",
   "execution_count": 56,
   "metadata": {
    "collapsed": true
   },
   "outputs": [],
   "source": [
    "issue_update = table_to_dataframe(\"IssueUpdate\", connection)"
   ]
  },
  {
   "cell_type": "code",
   "execution_count": 57,
   "metadata": {
    "collapsed": false
   },
   "outputs": [],
   "source": [
    "chrome_issue_update = issue_update[issue_update[\"issue_id\"].isin(unique_chrome_issues)]\n",
    "chrome_comp_updates = chrome_issue_update[chrome_issue_update[\"field\"] == \"components\"]"
   ]
  },
  {
   "cell_type": "code",
   "execution_count": 58,
   "metadata": {
    "collapsed": false
   },
   "outputs": [
    {
     "name": "stdout",
     "output_type": "stream",
     "text": [
      "0\n",
      "100000\n",
      "200000\n",
      "300000\n",
      "400000\n",
      "500000\n",
      "600000\n"
     ]
    }
   ],
   "source": [
    "updates_by_issue_id = dict()\n",
    "i = 0\n",
    "for index, row in chrome_issue.iterrows():\n",
    "    issue_id = row[\"issue_id\"]\n",
    "    updates_by_issue_id[issue_id] = []\n",
    "    for comp_index, comp_row in chrome_comp_updates[chrome_comp_updates[\"issue_id\"] == issue_id].iterrows():\n",
    "        updates_by_issue_id[issue_id].append(comp_index)\n",
    "    \n",
    "    if i % 100000 == 0:\n",
    "        print(i)\n",
    "    i += 1"
   ]
  },
  {
   "cell_type": "code",
   "execution_count": 59,
   "metadata": {
    "collapsed": false
   },
   "outputs": [],
   "source": [
    "chrome_issue[\"comp_updates\"] = chrome_issue[\"issue_id\"].apply(lambda i_id: updates_by_issue_id[i_id])\n",
    "chrome_issue[\"num_comp_updates\"] = chrome_issue[\"issue_id\"].apply(lambda i_id: len(updates_by_issue_id[i_id]))"
   ]
  },
  {
   "cell_type": "markdown",
   "metadata": {},
   "source": [
    "### Work only with Closed Issues to determine time to correct component assignment"
   ]
  },
  {
   "cell_type": "code",
   "execution_count": 60,
   "metadata": {
    "collapsed": false
   },
   "outputs": [],
   "source": [
    "closed_chrome_issue = chrome_issue[chrome_issue[\"closed\"] != 0]"
   ]
  },
  {
   "cell_type": "code",
   "execution_count": 61,
   "metadata": {
    "collapsed": false
   },
   "outputs": [
    {
     "name": "stdout",
     "output_type": "stream",
     "text": [
      "The Number of closed chrome issues 538161\n"
     ]
    }
   ],
   "source": [
    "print(\"The Number of closed chrome issues\", closed_chrome_issue.shape[0])"
   ]
  },
  {
   "cell_type": "code",
   "execution_count": 62,
   "metadata": {
    "collapsed": false
   },
   "outputs": [
    {
     "data": {
      "image/png": "[encoded data removed]",
      "text/plain": [
       "<matplotlib.figure.Figure at 0x7fd64ceb8c10>"
      ]
     },
     "metadata": {},
     "output_type": "display_data"
    }
   ],
   "source": [
    "histrogram_plot(closed_chrome_issue[\"num_components\"], \"Number of Components (Closed)\", \"Number of Components\", \"Count\")"
   ]
  },
  {
   "cell_type": "markdown",
   "metadata": {},
   "source": [
    "### Statistics on Component assignment for closed chrome issues"
   ]
  },
  {
   "cell_type": "code",
   "execution_count": 63,
   "metadata": {
    "collapsed": false
   },
   "outputs": [
    {
     "data": {
      "text/plain": [
       "count    538161.000000\n",
       "mean          0.853496\n",
       "std           0.850581\n",
       "min           0.000000\n",
       "25%           0.000000\n",
       "50%           1.000000\n",
       "75%           1.000000\n",
       "max           8.000000\n",
       "Name: num_components, dtype: float64"
      ]
     },
     "execution_count": 63,
     "metadata": {},
     "output_type": "execute_result"
    }
   ],
   "source": [
    "closed_chrome_issue[\"num_components\"].describe()"
   ]
  },
  {
   "cell_type": "code",
   "execution_count": 64,
   "metadata": {
    "collapsed": false
   },
   "outputs": [
    {
     "data": {
      "image/png": "[encoded data removed]",
      "text/plain": [
       "<matplotlib.figure.Figure at 0x7fd616727450>"
      ]
     },
     "metadata": {},
     "output_type": "display_data"
    }
   ],
   "source": [
    "histrogram_plot(closed_chrome_issue[\"num_comp_updates\"], \"Number of Component Updates (Closed Issues)\", \"Number of Updates\", \"Count\")"
   ]
  },
  {
   "cell_type": "markdown",
   "metadata": {},
   "source": [
    "### Only include issues that were created after issue tracking was transorted to Monorail"
   ]
  },
  {
   "cell_type": "code",
   "execution_count": 65,
   "metadata": {
    "collapsed": false
   },
   "outputs": [],
   "source": [
    "import_date = \"02/18/2016\"\n",
    "import_date = time.mktime(datetime.datetime.strptime(import_date, \"%m/%d/%Y\").timetuple())"
   ]
  },
  {
   "cell_type": "code",
   "execution_count": 66,
   "metadata": {
    "collapsed": false
   },
   "outputs": [],
   "source": [
    "closed_chrome_issues_monorail = closed_chrome_issue[closed_chrome_issue[\"opened\"] > import_date]"
   ]
  },
  {
   "cell_type": "code",
   "execution_count": 67,
   "metadata": {
    "collapsed": false
   },
   "outputs": [
    {
     "data": {
      "text/plain": [
       "(12381, 24)"
      ]
     },
     "execution_count": 67,
     "metadata": {},
     "output_type": "execute_result"
    }
   ],
   "source": [
    "closed_chrome_issues_monorail.shape"
   ]
  },
  {
   "cell_type": "code",
   "execution_count": 68,
   "metadata": {
    "collapsed": false
   },
   "outputs": [
    {
     "data": {
      "image/png": "[encoded data removed]",
      "text/plain": [
       "<matplotlib.figure.Figure at 0x7fd6a66983d0>"
      ]
     },
     "metadata": {},
     "output_type": "display_data"
    }
   ],
   "source": [
    "histrogram_plot(closed_chrome_issues_monorail[\"num_components\"],  \"Number of Component Per Issue(Closed Issues)\", \"Number of Comps\", \"Count\")"
   ]
  },
  {
   "cell_type": "code",
   "execution_count": 69,
   "metadata": {
    "collapsed": false
   },
   "outputs": [
    {
     "data": {
      "text/plain": [
       "count    12381.000000\n",
       "mean         0.725305\n",
       "std          0.663298\n",
       "min          0.000000\n",
       "25%          0.000000\n",
       "50%          1.000000\n",
       "75%          1.000000\n",
       "max          5.000000\n",
       "Name: num_components, dtype: float64"
      ]
     },
     "execution_count": 69,
     "metadata": {},
     "output_type": "execute_result"
    }
   ],
   "source": [
    "closed_chrome_issues_monorail[\"num_components\"].describe()"
   ]
  },
  {
   "cell_type": "code",
   "execution_count": 70,
   "metadata": {
    "collapsed": false
   },
   "outputs": [],
   "source": [
    "closed_chrome_with_comps = closed_chrome_issues_monorail[closed_chrome_issues_monorail[\"num_components\"] > 0]"
   ]
  },
  {
   "cell_type": "code",
   "execution_count": 71,
   "metadata": {
    "collapsed": false
   },
   "outputs": [
    {
     "name": "stdout",
     "output_type": "stream",
     "text": [
      "Number of Closed Issues with Components (opened after 2/18/2016) 7672\n"
     ]
    }
   ],
   "source": [
    "print(\"Number of Closed Issues with Components (opened after 2/18/2016)\", closed_chrome_with_comps.shape[0])"
   ]
  },
  {
   "cell_type": "code",
   "execution_count": 72,
   "metadata": {
    "collapsed": false
   },
   "outputs": [
    {
     "name": "stdout",
     "output_type": "stream",
     "text": [
      "Number of Closed Issues with no Components (opened after 2/18/2016) 4709\n"
     ]
    }
   ],
   "source": [
    "print(\"Number of Closed Issues with no Components (opened after 2/18/2016)\", np.sum(closed_chrome_issues_monorail[\"num_components\"] == 0))"
   ]
  },
  {
   "cell_type": "code",
   "execution_count": 73,
   "metadata": {
    "collapsed": false
   },
   "outputs": [],
   "source": [
    "no_comps_with_updates = closed_chrome_issues_monorail[(closed_chrome_issues_monorail[\"num_comp_updates\"] > 0) & (closed_chrome_issues_monorail[\"num_components\"] == 0)]"
   ]
  },
  {
   "cell_type": "code",
   "execution_count": 74,
   "metadata": {
    "collapsed": false
   },
   "outputs": [
    {
     "name": "stdout",
     "output_type": "stream",
     "text": [
      "Number of Issues that were asigned a componet but were closed with no componet: 27\n"
     ]
    }
   ],
   "source": [
    "print(\"Number of Issues that were asigned a componet but were closed with no componet:\", no_comps_with_updates.shape[0])"
   ]
  },
  {
   "cell_type": "code",
   "execution_count": 75,
   "metadata": {
    "collapsed": false
   },
   "outputs": [
    {
     "data": {
      "text/plain": [
       "<matplotlib.axes.AxesSubplot at 0x7fd684fae6d0>"
      ]
     },
     "execution_count": 75,
     "metadata": {},
     "output_type": "execute_result"
    },
    {
     "data": {
      "image/png": "[encoded data removed]",
      "text/plain": [
       "<matplotlib.figure.Figure at 0x7fd64c67d910>"
      ]
     },
     "metadata": {},
     "output_type": "display_data"
    }
   ],
   "source": [
    "sns.distplot(closed_chrome_with_comps[\"num_comp_updates\"], kde=False)"
   ]
  },
  {
   "cell_type": "code",
   "execution_count": 76,
   "metadata": {
    "collapsed": false
   },
   "outputs": [],
   "source": [
    "def time_of_last_component_1(updates):\n",
    "    # If there are no comp updates then all comp assignments \n",
    "    # were assigned during issue creation\n",
    "    if len(updates) == 0:\n",
    "        return 0\n",
    "    # If there is more than one update the time to correct component assignment\n",
    "    # is the time of the last assignment. Note that this interpretation assumes\n",
    "    # a correct component assignment as being not just assinging the correct one\n",
    "    # but also removing any incorrect ones.\n",
    "    comment_id = updates.iloc[-1][\"comment_id\"]\n",
    "    return chrome_comment[chrome_comment[\"id\"] == comment_id][\"created\"].values[0]\n",
    "        "
   ]
  },
  {
   "cell_type": "code",
   "execution_count": 77,
   "metadata": {
    "collapsed": false,
    "scrolled": false
   },
   "outputs": [
    {
     "name": "stdout",
     "output_type": "stream",
     "text": [
      "0\n",
      "1000\n",
      "2000\n",
      "3000\n",
      "4000\n",
      "5000\n",
      "6000\n",
      "7000\n"
     ]
    }
   ],
   "source": [
    "i = 0\n",
    "time_to_comp_assignment = dict()\n",
    "for index, row in closed_chrome_with_comps.iterrows():\n",
    "    ish_id = row[\"issue_id\"]\n",
    "    updates = chrome_comp_updates.loc[row[\"comp_updates\"]]\n",
    "    time = time_of_last_component_1(updates)\n",
    "    if time == 0:\n",
    "        time_to_comp_assignment[ish_id] = time\n",
    "    else:\n",
    "        time = time - row[\"opened\"]\n",
    "        time_to_comp_assignment[ish_id] = time\n",
    "    \n",
    "    if (i % 1000) == 0:\n",
    "        print(i)\n",
    "    i += 1\n",
    "    "
   ]
  },
  {
   "cell_type": "markdown",
   "metadata": {},
   "source": [
    "### Histogram Showing time to correct component assignment"
   ]
  },
  {
   "cell_type": "code",
   "execution_count": 78,
   "metadata": {
    "collapsed": false
   },
   "outputs": [
    {
     "data": {
      "image/png": "[encoded data removed]",
      "text/plain": [
       "<matplotlib.figure.Figure at 0x7fd69d32d110>"
      ]
     },
     "metadata": {},
     "output_type": "display_data"
    }
   ],
   "source": [
    "histrogram_plot(pd.DataFrame(time_to_comp_assignment.items())[1] / (3600*24), \"Time to assignment\", \"Time (Days)\", \"Number of Issues\")"
   ]
  },
  {
   "cell_type": "code",
   "execution_count": 79,
   "metadata": {
    "collapsed": false
   },
   "outputs": [
    {
     "data": {
      "text/plain": [
       "count    7672.000000\n",
       "mean        5.716000\n",
       "std        14.322087\n",
       "min         0.000000\n",
       "25%         0.000000\n",
       "50%         0.000000\n",
       "75%         1.160851\n",
       "max        71.252500\n",
       "Name: 1, dtype: float64"
      ]
     },
     "execution_count": 79,
     "metadata": {},
     "output_type": "execute_result"
    }
   ],
   "source": [
    "(pd.DataFrame(time_to_comp_assignment.items())[1] / (3600*24)).describe()"
   ]
  },
  {
   "cell_type": "code",
   "execution_count": 80,
   "metadata": {
    "collapsed": false
   },
   "outputs": [],
   "source": [
    "no_comp = closed_chrome_issues_monorail[closed_chrome_issues_monorail[\"num_components\"] == 0]\n",
    "with_comp = closed_chrome_issues_monorail[closed_chrome_issues_monorail[\"num_components\"] != 0]"
   ]
  },
  {
   "cell_type": "code",
   "execution_count": 81,
   "metadata": {
    "collapsed": false
   },
   "outputs": [
    {
     "data": {
      "text/plain": [
       "<matplotlib.legend.Legend at 0x7fd617f5dd90>"
      ]
     },
     "execution_count": 81,
     "metadata": {},
     "output_type": "execute_result"
    },
    {
     "data": {
      "image/png": "[encoded data removed]",
      "text/plain": [
       "<matplotlib.figure.Figure at 0x7fd6167363d0>"
      ]
     },
     "metadata": {},
     "output_type": "display_data"
    }
   ],
   "source": [
    "sns.distplot((no_comp[\"closed\"] - no_comp[\"opened\"]) / (3600 * 24), kde=False, label=\"NO Component\", norm_hist=True, color=\"pink\")\n",
    "sns.distplot((with_comp[\"closed\"] - with_comp[\"opened\"]) / (3600 * 24), kde=False, label=\"With Component\", norm_hist=True, color=\"Blue\")\n",
    "plt.xlabel(\"Days\")\n",
    "plt.ylabel(\"Numbe of Issues (normalized)\")\n",
    "plt.title(\"Time to closure (normalized)\")\n",
    "plt.legend()"
   ]
  },
  {
   "cell_type": "code",
   "execution_count": 82,
   "metadata": {
    "collapsed": false
   },
   "outputs": [
    {
     "data": {
      "text/plain": [
       "count    4709.000000\n",
       "mean        7.838234\n",
       "std        13.047354\n",
       "min         0.000000\n",
       "25%         0.254734\n",
       "50%         1.507581\n",
       "75%         8.759780\n",
       "max        76.061817\n",
       "dtype: float64"
      ]
     },
     "execution_count": 82,
     "metadata": {},
     "output_type": "execute_result"
    }
   ],
   "source": [
    "((no_comp[\"closed\"] - no_comp[\"opened\"]) / (3600 * 24)).describe()"
   ]
  },
  {
   "cell_type": "code",
   "execution_count": 83,
   "metadata": {
    "collapsed": false
   },
   "outputs": [
    {
     "data": {
      "text/plain": [
       "count    7672.000000\n",
       "mean        9.754343\n",
       "std        13.647165\n",
       "min         0.000000\n",
       "25%         0.735463\n",
       "50%         4.048987\n",
       "75%        13.455067\n",
       "max        84.907685\n",
       "dtype: float64"
      ]
     },
     "execution_count": 83,
     "metadata": {},
     "output_type": "execute_result"
    }
   ],
   "source": [
    "((with_comp[\"closed\"] - with_comp[\"opened\"]) / (3600 * 24)).describe()"
   ]
  },
  {
   "cell_type": "markdown",
   "metadata": {},
   "source": [
    "### Perform the same analysis as above but now excluding issues marked as \"WontFix\" or \"Duplicate\""
   ]
  },
  {
   "cell_type": "code",
   "execution_count": 84,
   "metadata": {
    "collapsed": true
   },
   "outputs": [],
   "source": [
    "status_def = table_to_dataframe(\"StatusDef\", connection)"
   ]
  },
  {
   "cell_type": "code",
   "execution_count": 85,
   "metadata": {
    "collapsed": false
   },
   "outputs": [],
   "source": [
    "chrome_not_valid = set(chrome_issue_update[(chrome_issue_update[\"new_value\"] == \"WontFix\") | \n",
    "                                  (chrome_issue_update[\"new_value\"] == \"Duplicate\")][\"issue_id\"])"
   ]
  },
  {
   "cell_type": "code",
   "execution_count": 86,
   "metadata": {
    "collapsed": false
   },
   "outputs": [],
   "source": [
    "closed_chrome_valid = closed_chrome_issue[closed_chrome_issue[\"issue_id\"].apply(lambda i_id: i_id not in chrome_not_valid)]"
   ]
  },
  {
   "cell_type": "code",
   "execution_count": 87,
   "metadata": {
    "collapsed": false
   },
   "outputs": [],
   "source": [
    "no_comp_valid = closed_chrome_valid[closed_chrome_valid[\"num_components\"] == 0]\n",
    "with_comp_valid = closed_chrome_valid[closed_chrome_valid[\"num_components\"] != 0]"
   ]
  },
  {
   "cell_type": "code",
   "execution_count": 88,
   "metadata": {
    "collapsed": false
   },
   "outputs": [
    {
     "data": {
      "text/plain": [
       "<matplotlib.legend.Legend at 0x7fd6161809d0>"
      ]
     },
     "execution_count": 88,
     "metadata": {},
     "output_type": "execute_result"
    },
    {
     "data": {
      "image/png": "[encoded data removed]",
      "text/plain": [
       "<matplotlib.figure.Figure at 0x7fd6627d47d0>"
      ]
     },
     "metadata": {},
     "output_type": "display_data"
    }
   ],
   "source": [
    "sns.distplot((no_comp_valid[\"closed\"] - no_comp_valid[\"opened\"]) / (3600 * 24), kde=False, label=\"NO Component\", norm_hist=True, color=\"pink\")\n",
    "sns.distplot((with_comp_valid[\"closed\"] - with_comp_valid[\"opened\"]) / (3600 * 24), kde=False, label=\"With Component\", norm_hist=True, color=\"Blue\")\n",
    "plt.xlabel(\"Days\")\n",
    "plt.ylabel(\"Numbe of Issues (normalized)\")\n",
    "plt.title(\"Time to issue closure(Excluding Issues marked WontFix or Duplicate)\")\n",
    "plt.legend()"
   ]
  },
  {
   "cell_type": "code",
   "execution_count": 89,
   "metadata": {
    "collapsed": false
   },
   "outputs": [
    {
     "data": {
      "text/plain": [
       "count    94498.000000\n",
       "mean       246.740942\n",
       "std        408.972934\n",
       "min          0.000000\n",
       "25%          0.000000\n",
       "50%         11.163003\n",
       "75%        411.270145\n",
       "max       2656.412662\n",
       "dtype: float64"
      ]
     },
     "execution_count": 89,
     "metadata": {},
     "output_type": "execute_result"
    }
   ],
   "source": [
    "((no_comp_valid[\"closed\"] - no_comp_valid[\"opened\"]) / (3600 * 24)).describe()"
   ]
  },
  {
   "cell_type": "code",
   "execution_count": 90,
   "metadata": {
    "collapsed": false
   },
   "outputs": [
    {
     "data": {
      "text/plain": [
       "count    177877.000000\n",
       "mean        153.512277\n",
       "std         311.320375\n",
       "min           0.000000\n",
       "25%           3.199873\n",
       "50%          19.683600\n",
       "75%         120.228102\n",
       "max        2798.843438\n",
       "dtype: float64"
      ]
     },
     "execution_count": 90,
     "metadata": {},
     "output_type": "execute_result"
    }
   ],
   "source": [
    "((with_comp_valid[\"closed\"] - with_comp_valid[\"opened\"]) / (3600 * 24)).describe()"
   ]
  },
  {
   "cell_type": "code",
   "execution_count": null,
   "metadata": {
    "collapsed": true
   },
   "outputs": [],
   "source": []
  }
 ],
 "metadata": {
  "kernelspec": {
   "display_name": "Python 2",
   "language": "python",
   "name": "python2"
  },
  "language_info": {
   "codemirror_mode": {
    "name": "ipython",
    "version": 2
   },
   "file_extension": ".py",
   "mimetype": "text/x-python",
   "name": "python",
   "nbconvert_exporter": "python",
   "pygments_lexer": "ipython2",
   "version": "2.7.6"
  }
 },
 "nbformat": 4,
 "nbformat_minor": 0
}
